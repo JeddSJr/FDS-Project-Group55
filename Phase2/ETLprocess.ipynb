{
 "cells": [
  {
   "cell_type": "markdown",
   "metadata": {},
   "source": [
    "## Data Staging process for Phase 2 of CSI4142 Project"
   ]
  },
  {
   "cell_type": "markdown",
   "metadata": {},
   "source": [
    "### 1. Extraction"
   ]
  },
  {
   "cell_type": "code",
   "execution_count": 43,
   "metadata": {},
   "outputs": [
    {
     "name": "stderr",
     "output_type": "stream",
     "text": [
      "C:\\Users\\Jedd\\AppData\\Local\\Temp\\ipykernel_21704\\3035272858.py:2: DeprecationWarning: \n",
      "Pyarrow will become a required dependency of pandas in the next major release of pandas (pandas 3.0),\n",
      "(to allow more performant data types, such as the Arrow string type, and better interoperability with other libraries)\n",
      "but was not found to be installed on your system.\n",
      "If this would cause problems for you,\n",
      "please provide us feedback at https://github.com/pandas-dev/pandas/issues/54466\n",
      "        \n",
      "  import pandas as pd\n"
     ]
    }
   ],
   "source": [
    "# pip install and imports here\n",
    "import pandas as pd"
   ]
  },
  {
   "cell_type": "code",
   "execution_count": 44,
   "metadata": {},
   "outputs": [
    {
     "name": "stdout",
     "output_type": "stream",
     "text": [
      "        id          name       rank     generation evolves_from     type1  \\\n",
      "0        1     bulbasaur   ordinary   generation-i      nothing     grass   \n",
      "1        2       ivysaur   ordinary   generation-i    bulbasaur     grass   \n",
      "2        3      venusaur   ordinary   generation-i      ivysaur     grass   \n",
      "3        4    charmander   ordinary   generation-i      nothing      fire   \n",
      "4        5    charmeleon   ordinary   generation-i   charmander      fire   \n",
      "...    ...           ...        ...            ...          ...       ...   \n",
      "1020  1021   raging-bolt   ordinary  generation-ix      nothing  electric   \n",
      "1021  1022  iron-boulder   ordinary  generation-ix      nothing      rock   \n",
      "1022  1023    iron-crown   ordinary  generation-ix      nothing     steel   \n",
      "1023  1024     terapagos  legendary  generation-ix      nothing    normal   \n",
      "1024  1025     pecharunt   mythical  generation-ix      nothing    poison   \n",
      "\n",
      "        type2   hp  atk  def  spatk  spdef  speed  total  height  weight  \\\n",
      "0      poison   45   49   49     65     65     45    318       7      69   \n",
      "1      poison   60   62   63     80     80     60    405      10     130   \n",
      "2      poison   80   82   83    100    100     80    525      20    1000   \n",
      "3         NaN   39   52   43     60     50     65    309       6      85   \n",
      "4         NaN   58   64   58     80     65     80    405      11     190   \n",
      "...       ...  ...  ...  ...    ...    ...    ...    ...     ...     ...   \n",
      "1020   dragon  125   73   91    137     89     75    590      52    4800   \n",
      "1021  psychic   90  120   80     68    108    124    590      15    1625   \n",
      "1022  psychic   90   72  100    122    108     98    590      16    1560   \n",
      "1023      NaN   90   65   85     65     85     60    450       2      65   \n",
      "1024    ghost   88   88  160     88     88     88    600       3       3   \n",
      "\n",
      "                  abilities                                               desc  \n",
      "0     overgrow chlorophyll   A strange seed was planted on its back at birt...  \n",
      "1     overgrow chlorophyll   When the bulb on its back grows large, it appe...  \n",
      "2     overgrow chlorophyll   The plant blooms when it is absorbing solar en...  \n",
      "3        blaze solar-power   Obviously prefers hot places. When it rains, s...  \n",
      "4        blaze solar-power   When it swings its burning tail, it elevates t...  \n",
      "...                     ...                                                ...  \n",
      "1020        protosynthesis                                       Not Available  \n",
      "1021           quark-drive                                       Not Available  \n",
      "1022           quark-drive                                       Not Available  \n",
      "1023            tera-shift                                       Not Available  \n",
      "1024      poison-puppeteer                                       Not Available  \n",
      "\n",
      "[1025 rows x 18 columns]\n"
     ]
    }
   ],
   "source": [
    "# Read base dataset in a pandas data frame and print\n",
    "base_pokemon_df = pd.read_csv(\"data/base_df_pokemon.csv\")\n",
    "print(base_pokemon_df)"
   ]
  },
  {
   "cell_type": "code",
   "execution_count": null,
   "metadata": {},
   "outputs": [],
   "source": [
    "print(\"Now we verify the types pandas assigned to our columns\")\n",
    "print(base_pokemon_df.dtypes)\n",
    "print(\"dtype = object signifies a string\")"
   ]
  },
  {
   "cell_type": "markdown",
   "metadata": {},
   "source": [
    "### 2. Transformation"
   ]
  },
  {
   "cell_type": "code",
   "execution_count": null,
   "metadata": {},
   "outputs": [],
   "source": [
    "#pip install and imports here"
   ]
  },
  {
   "cell_type": "code",
   "execution_count": 46,
   "metadata": {},
   "outputs": [
    {
     "name": "stdout",
     "output_type": "stream",
     "text": [
      "Creating DexEntry Key column...\n",
      "Creating ContextInfo key column...\n"
     ]
    }
   ],
   "source": [
    "#create needed columns for transformation\n",
    "print(\"Creating DexEntry Key column...\")\n",
    "base_pokemon_df[\"dexEntry key\"] =  base_pokemon_df[\"id\"].astype(str)+base_pokemon_df[\"generation\"].str.replace(\"generation\",\"\")\n",
    "\n",
    "print(\"Creating ContextInfo key column...\")\n",
    "base_pokemon_df[\"contextInfo key\"] = base_pokemon_df[\"rank\"]+base_pokemon_df[\"generation\"].str.replace(\"generation\",\"\")\n",
    "#print(base_pokemon_df)"
   ]
  },
  {
   "cell_type": "markdown",
   "metadata": {},
   "source": [
    "We create dataframes that match our model's dimensions"
   ]
  },
  {
   "cell_type": "code",
   "execution_count": null,
   "metadata": {},
   "outputs": [],
   "source": [
    "print(\"Pokedex Entry dimension\\n\")\n",
    "\n",
    "pkd_entry_dim_cols = [\"dexEntry key\",\"id\",\"name\",\"evolves_from\",\"type1\",\"type2\",\"height\",\"weight\",\"abilities\"]\n",
    "pkd_entry_df = base_pokemon_df[pkd_entry_dim_cols]\n",
    "\n",
    "print(\"Renaming the columns to match our model...\")\n",
    "pkd_entry_cols_names = {\"id\": \"pokedex Id\", \"height\":\"height(cm)\", \"weight\" : \"weight(kg)\"}\n",
    "pkd_entry_df= pkd_entry_df.rename(columns=pkd_entry_cols_names, errors=\"raise\")\n",
    "\n",
    "print(\"Converting height and weight from decameter and dekagram to centimeters and kilogram...\")\n",
    "pkd_entry_df[\"height(cm)\"] *= 10\n",
    "pkd_entry_df[\"weight(kg)\"] *= 0.1\n",
    "\n",
    "print(\"\\n\")\n",
    "print(pkd_entry_df)"
   ]
  },
  {
   "cell_type": "code",
   "execution_count": null,
   "metadata": {},
   "outputs": [],
   "source": [
    "print(\"ContextInfo dimension\\n\")\n",
    "cinfo_dim_cols = [\"contextInfo key\",\"rank\",\"generation\"]\n",
    "cinfo_df = base_pokemon_df[cinfo_dim_cols]\n",
    "\n",
    "print(\"Dropping duplicates...\")\n",
    "cinfo_df.drop_duplicates(subset=[\"contextInfo key\"],inplace=True)\n",
    "\n",
    "print(\"Reseting indexes after removing duplicates...\")\n",
    "cinfo_df.reset_index(drop=True,inplace=True)\n",
    "print(cinfo_df)"
   ]
  },
  {
   "cell_type": "markdown",
   "metadata": {},
   "source": [
    "We create a dataframe for our fact table"
   ]
  },
  {
   "cell_type": "code",
   "execution_count": 47,
   "metadata": {},
   "outputs": [
    {
     "name": "stdout",
     "output_type": "stream",
     "text": [
      "Fact table\n",
      "\n",
      "Renaming columns to match our model...\n",
      "Checking for null values...\n",
      "dexEntry key       0\n",
      "contextInfo key    0\n",
      "Health Points      0\n",
      "Attack             0\n",
      "Defense            0\n",
      "Special Attack     0\n",
      "Special Defense    0\n",
      "Speed              0\n",
      "Total              0\n",
      "dtype: int64\n",
      "\n",
      "\n",
      "     dexEntry key contextInfo key  Health Points  Attack  Defense  \\\n",
      "0             1-i      ordinary-i             45      49       49   \n",
      "1             2-i      ordinary-i             60      62       63   \n",
      "2             3-i      ordinary-i             80      82       83   \n",
      "3             4-i      ordinary-i             39      52       43   \n",
      "4             5-i      ordinary-i             58      64       58   \n",
      "...           ...             ...            ...     ...      ...   \n",
      "1020      1021-ix     ordinary-ix            125      73       91   \n",
      "1021      1022-ix     ordinary-ix             90     120       80   \n",
      "1022      1023-ix     ordinary-ix             90      72      100   \n",
      "1023      1024-ix    legendary-ix             90      65       85   \n",
      "1024      1025-ix     mythical-ix             88      88      160   \n",
      "\n",
      "      Special Attack  Special Defense  Speed  Total  \n",
      "0                 65               65     45    318  \n",
      "1                 80               80     60    405  \n",
      "2                100              100     80    525  \n",
      "3                 60               50     65    309  \n",
      "4                 80               65     80    405  \n",
      "...              ...              ...    ...    ...  \n",
      "1020             137               89     75    590  \n",
      "1021              68              108    124    590  \n",
      "1022             122              108     98    590  \n",
      "1023              65               85     60    450  \n",
      "1024              88               88     88    600  \n",
      "\n",
      "[1025 rows x 9 columns]\n"
     ]
    }
   ],
   "source": [
    "print(\"Fact table\\n\")\n",
    "fact_table_cols = [\"dexEntry key\",\"contextInfo key\",\"hp\", \"atk\", \"def\", \"spatk\",\"spdef\",\"speed\",\"total\"]\n",
    "fact_table_df = base_pokemon_df[fact_table_cols]\n",
    "\n",
    "print(\"Renaming columns to match our model...\")\n",
    "fact_cols_names = {\"hp\": \"Health Points\", \"atk\":\"Attack\", \"def\" : \"Defense\", \"spatk\":\"Special Attack\",\"spdef\":\"Special Defense\", \"speed\": \"Speed\", \"total\":\"Total\"}\n",
    "fact_table_df= fact_table_df.rename(columns=fact_cols_names, errors=\"raise\")\n",
    "\n",
    "print(\"Checking for null values...\")\n",
    "print(fact_table_df.isnull().sum())\n",
    "\n",
    "print(\"\\n\")\n",
    "print(fact_table_df)"
   ]
  },
  {
   "cell_type": "code",
   "execution_count": null,
   "metadata": {},
   "outputs": [],
   "source": [
    "# If we want to add data from the datasets in data\\extended datasets we can do that here"
   ]
  },
  {
   "cell_type": "markdown",
   "metadata": {},
   "source": [
    "### 3. Loading"
   ]
  },
  {
   "cell_type": "code",
   "execution_count": 7,
   "metadata": {},
   "outputs": [
    {
     "name": "stdout",
     "output_type": "stream",
     "text": [
      "Requirement already satisfied: psycopg2-binary in c:\\python310\\lib\\site-packages (2.9.9)\n",
      "Note: you may need to restart the kernel to use updated packages.\n"
     ]
    },
    {
     "name": "stderr",
     "output_type": "stream",
     "text": [
      "WARNING: Ignoring invalid distribution -ip (c:\\python310\\lib\\site-packages)\n",
      "WARNING: Ignoring invalid distribution -ip (c:\\python310\\lib\\site-packages)\n"
     ]
    }
   ],
   "source": [
    "#pip install and imports here\n",
    "%pip install psycopg2-binary\n",
    "\n",
    "import psycopg2\n",
    "import configparser"
   ]
  },
  {
   "cell_type": "markdown",
   "metadata": {},
   "source": [
    "Retrieving configuration and connecting to the database"
   ]
  },
  {
   "cell_type": "code",
   "execution_count": 53,
   "metadata": {},
   "outputs": [
    {
     "name": "stdout",
     "output_type": "stream",
     "text": [
      "Retrieving configuration...\n",
      "Connecting to the database...\n",
      "<connection object at 0x000001FEE0843340; dsn: 'user=postgres password=xxx dbname=postgres host=localhost port=5432', closed: 0>\n",
      "<cursor object at 0x000001FEE3B103C0; closed: 0>\n",
      "Connected to the database !\n"
     ]
    }
   ],
   "source": [
    "print(\"Retrieving configuration...\")\n",
    "config = configparser.ConfigParser()\n",
    "config.read('settings.ini')\n",
    "db_config = config['DB CONFIGURATION']\n",
    "\n",
    "print(\"Connecting to the database...\")\n",
    "\n",
    "try:\n",
    "    conn = psycopg2.connect(\n",
    "        \"dbname=\"+ db_config['DB_NAME']+\n",
    "        \" host=\"+db_config['HOST']+\n",
    "        \" user=\"+ db_config['USER']+\n",
    "        \" password=\"+ db_config['PASSWORD']+\n",
    "        \" port=\"+db_config['PORT']\n",
    "    )\n",
    "    cursor = conn.cursor()\n",
    "    print(conn)\n",
    "    print(cursor)\n",
    "    print(\"Connected to the database !\")\n",
    "except psycopg2.OperationalError as e:\n",
    "    #print(\"Error connecting to the database!\\n{0}\").format(e)\n",
    "    print(\"Failed to connect to the database\")\n",
    "    import sys\n",
    "    err_type, err_obj, traceback = sys.exc_info()\n",
    "    print(\"\\npsycopg error:\",e)\n",
    "    print (\"\\npsycopg2 traceback:\", traceback, \"-- type:\", err_type)\n",
    "    print (\"\\nextensions.Diagnostics:\", e.diag)\n"
   ]
  },
  {
   "cell_type": "markdown",
   "metadata": {},
   "source": [
    "SQL Queries to load our data"
   ]
  },
  {
   "cell_type": "markdown",
   "metadata": {},
   "source": [
    "1. Verifying that our tables exist and creating them if they do not\n"
   ]
  },
  {
   "cell_type": "code",
   "execution_count": 54,
   "metadata": {},
   "outputs": [
    {
     "name": "stdout",
     "output_type": "stream",
     "text": [
      "Checking for tables...\n",
      "Checking ContextInfo_Dimension\n",
      "Checking PokedexEntry_Dimension\n",
      "Checking Fact Table\n",
      "[('public', 'pokedexentry_dimension', 'postgres', None, True, False, True, False), ('public', 'fact_table', 'postgres', None, False, False, True, False), ('public', 'contextinfo_dimension', 'postgres', None, True, False, True, False), ('pg_catalog', 'pg_statistic', 'postgres', None, True, False, False, False), ('pg_catalog', 'pg_type', 'postgres', None, True, False, False, False), ('pg_catalog', 'pg_foreign_table', 'postgres', None, True, False, False, False), ('pg_catalog', 'pg_authid', 'postgres', 'pg_global', True, False, False, False), ('pg_catalog', 'pg_statistic_ext_data', 'postgres', None, True, False, False, False), ('pg_catalog', 'pg_user_mapping', 'postgres', None, True, False, False, False), ('pg_catalog', 'pg_subscription', 'postgres', 'pg_global', True, False, False, False), ('pg_catalog', 'pg_attribute', 'postgres', None, True, False, False, False), ('pg_catalog', 'pg_proc', 'postgres', None, True, False, False, False), ('pg_catalog', 'pg_class', 'postgres', None, True, False, False, False), ('pg_catalog', 'pg_attrdef', 'postgres', None, True, False, False, False), ('pg_catalog', 'pg_constraint', 'postgres', None, True, False, False, False), ('pg_catalog', 'pg_inherits', 'postgres', None, True, False, False, False), ('pg_catalog', 'pg_index', 'postgres', None, True, False, False, False), ('pg_catalog', 'pg_operator', 'postgres', None, True, False, False, False), ('pg_catalog', 'pg_opfamily', 'postgres', None, True, False, False, False), ('pg_catalog', 'pg_opclass', 'postgres', None, True, False, False, False), ('pg_catalog', 'pg_am', 'postgres', None, True, False, False, False), ('pg_catalog', 'pg_amop', 'postgres', None, True, False, False, False), ('pg_catalog', 'pg_amproc', 'postgres', None, True, False, False, False), ('pg_catalog', 'pg_language', 'postgres', None, True, False, False, False), ('pg_catalog', 'pg_largeobject_metadata', 'postgres', None, True, False, False, False), ('pg_catalog', 'pg_aggregate', 'postgres', None, True, False, False, False), ('pg_catalog', 'pg_statistic_ext', 'postgres', None, True, False, False, False), ('pg_catalog', 'pg_rewrite', 'postgres', None, True, False, False, False), ('pg_catalog', 'pg_trigger', 'postgres', None, True, False, False, False), ('pg_catalog', 'pg_event_trigger', 'postgres', None, True, False, False, False), ('pg_catalog', 'pg_description', 'postgres', None, True, False, False, False), ('pg_catalog', 'pg_cast', 'postgres', None, True, False, False, False), ('pg_catalog', 'pg_enum', 'postgres', None, True, False, False, False), ('pg_catalog', 'pg_namespace', 'postgres', None, True, False, False, False), ('pg_catalog', 'pg_conversion', 'postgres', None, True, False, False, False), ('pg_catalog', 'pg_depend', 'postgres', None, True, False, False, False), ('pg_catalog', 'pg_database', 'postgres', 'pg_global', True, False, False, False), ('pg_catalog', 'pg_db_role_setting', 'postgres', 'pg_global', True, False, False, False), ('pg_catalog', 'pg_tablespace', 'postgres', 'pg_global', True, False, False, False), ('pg_catalog', 'pg_auth_members', 'postgres', 'pg_global', True, False, False, False), ('pg_catalog', 'pg_shdepend', 'postgres', 'pg_global', True, False, False, False), ('pg_catalog', 'pg_shdescription', 'postgres', 'pg_global', True, False, False, False), ('pg_catalog', 'pg_ts_config', 'postgres', None, True, False, False, False), ('pg_catalog', 'pg_ts_config_map', 'postgres', None, True, False, False, False), ('pg_catalog', 'pg_ts_dict', 'postgres', None, True, False, False, False), ('pg_catalog', 'pg_ts_parser', 'postgres', None, True, False, False, False), ('pg_catalog', 'pg_ts_template', 'postgres', None, True, False, False, False), ('pg_catalog', 'pg_extension', 'postgres', None, True, False, False, False), ('pg_catalog', 'pg_foreign_data_wrapper', 'postgres', None, True, False, False, False), ('pg_catalog', 'pg_foreign_server', 'postgres', None, True, False, False, False), ('pg_catalog', 'pg_policy', 'postgres', None, True, False, False, False), ('pg_catalog', 'pg_replication_origin', 'postgres', 'pg_global', True, False, False, False), ('pg_catalog', 'pg_default_acl', 'postgres', None, True, False, False, False), ('pg_catalog', 'pg_init_privs', 'postgres', None, True, False, False, False), ('pg_catalog', 'pg_seclabel', 'postgres', None, True, False, False, False), ('pg_catalog', 'pg_shseclabel', 'postgres', 'pg_global', True, False, False, False), ('pg_catalog', 'pg_collation', 'postgres', None, True, False, False, False), ('pg_catalog', 'pg_parameter_acl', 'postgres', 'pg_global', True, False, False, False), ('pg_catalog', 'pg_partitioned_table', 'postgres', None, True, False, False, False), ('pg_catalog', 'pg_range', 'postgres', None, True, False, False, False), ('pg_catalog', 'pg_transform', 'postgres', None, True, False, False, False), ('pg_catalog', 'pg_sequence', 'postgres', None, True, False, False, False), ('pg_catalog', 'pg_publication', 'postgres', None, True, False, False, False), ('pg_catalog', 'pg_publication_namespace', 'postgres', None, True, False, False, False), ('pg_catalog', 'pg_publication_rel', 'postgres', None, True, False, False, False), ('pg_catalog', 'pg_subscription_rel', 'postgres', None, True, False, False, False), ('pg_catalog', 'pg_largeobject', 'postgres', None, True, False, False, False), ('information_schema', 'sql_features', 'postgres', None, False, False, False, False), ('information_schema', 'sql_implementation_info', 'postgres', None, False, False, False, False), ('information_schema', 'sql_parts', 'postgres', None, False, False, False, False), ('information_schema', 'sql_sizing', 'postgres', None, False, False, False, False)]\n"
     ]
    }
   ],
   "source": [
    "print(\"Checking for tables...\")\n",
    "try:\n",
    "    print(\"Checking ContextInfo_Dimension\")\n",
    "    cursor.execute(\n",
    "        \"CREATE TABLE IF NOT EXISTS \"+\n",
    "        \"ContextInfo_Dimension (\"+\n",
    "        \"ContextInfoKey varchar(255), \"+\n",
    "        \"Rank varchar(255), \"+\n",
    "        \"Generation varchar(255), \"+\n",
    "        \"PRIMARY KEY (ContextInfoKey) \"+\n",
    "        \");\"\n",
    "    )\n",
    "    \n",
    "    print(\"Checking PokedexEntry_Dimension\")\n",
    "    cursor.execute(\n",
    "        \"CREATE TABLE IF NOT EXISTS \"+\n",
    "        \"PokedexEntry_Dimension (\"+\n",
    "        \"DexEntryKey varchar(255), \"+\n",
    "        \"PokedexId INT, \"+\n",
    "        \"Name varchar(255), \"+\n",
    "        \"EvolvesFrom varchar(255), \"+\n",
    "        \"Type1 varchar(255), \"+\n",
    "        \"Type2 varchar(255), \"+\n",
    "        \"Height_cm FLOAT, \"+\n",
    "        \"Weight_kg FLOAT, \"+\n",
    "        \"Abilities varchar(255), \"+\n",
    "        \"PRIMARY KEY (DexEntryKey) \"+\n",
    "        \");\"\n",
    "    )\n",
    "    \n",
    "    print(\"Checking Fact Table\")\n",
    "    cursor.execute(\n",
    "        \"CREATE TABLE IF NOT EXISTS \"+\n",
    "        \"Fact_Table (\"+\n",
    "        \"DexEntryKey varchar(255), \"+\n",
    "        \"ContextInfoKey varchar(255), \"+\n",
    "        \"HP INT, \"+\n",
    "        \"ATK INT, \"+\n",
    "        \"DEF INT, \"+\n",
    "        \"SPATK INT, \"+\n",
    "        \"SPDEF INT, \"+\n",
    "        \"SPEED INT, \"+\n",
    "        \"TOTAL INT, \"+\n",
    "        \"FOREIGN KEY (DexEntryKey) REFERENCES PokedexEntry_Dimension(DexEntryKey), \"+\n",
    "        \"FOREIGN KEY (ContextInfoKey) REFERENCES ContextInfo_Dimension(ContextInfoKey) \"+\n",
    "        \");\"\n",
    "    )\n",
    "    \n",
    "    cursor.execute(\"SELECT * FROM pg_catalog.pg_tables;\")\n",
    "    print(cursor.fetchall())\n",
    "except Exception as e:\n",
    "    print(\"\\nError:\",e)"
   ]
  },
  {
   "cell_type": "markdown",
   "metadata": {},
   "source": [
    "2. Pushing our datasets to the appropriate tables"
   ]
  },
  {
   "cell_type": "markdown",
   "metadata": {},
   "source": [
    "3. Making aggregates if needed"
   ]
  }
 ],
 "metadata": {
  "kernelspec": {
   "display_name": "Python 3",
   "language": "python",
   "name": "python3"
  },
  "language_info": {
   "codemirror_mode": {
    "name": "ipython",
    "version": 3
   },
   "file_extension": ".py",
   "mimetype": "text/x-python",
   "name": "python",
   "nbconvert_exporter": "python",
   "pygments_lexer": "ipython3",
   "version": "3.10.4"
  }
 },
 "nbformat": 4,
 "nbformat_minor": 2
}
