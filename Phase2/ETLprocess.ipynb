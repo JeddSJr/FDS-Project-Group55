{
 "cells": [
  {
   "cell_type": "markdown",
   "metadata": {},
   "source": [
    "## Data Staging process for Phase 2 of CSI4142 Project"
   ]
  },
  {
   "cell_type": "markdown",
   "metadata": {},
   "source": [
    "### 1. Extraction"
   ]
  },
  {
   "cell_type": "code",
   "execution_count": null,
   "metadata": {},
   "outputs": [],
   "source": [
    "# pip install and imports here\n",
    "import pandas as pd"
   ]
  },
  {
   "cell_type": "code",
   "execution_count": null,
   "metadata": {},
   "outputs": [],
   "source": [
    "# Read base dataset in a pandas data frame and print\n",
    "base_pokemon_df = pd.read_csv(\"data/base_df_pokemon.csv\")\n",
    "print(base_pokemon_df)"
   ]
  },
  {
   "cell_type": "code",
   "execution_count": null,
   "metadata": {},
   "outputs": [],
   "source": [
    "print(\"Now we verify the types pandas assigned to our columns\")\n",
    "print(base_pokemon_df.dtypes)\n",
    "print(\"dtype = object signifies a string\")"
   ]
  },
  {
   "cell_type": "markdown",
   "metadata": {},
   "source": [
    "### 2. Transformation"
   ]
  },
  {
   "cell_type": "code",
   "execution_count": null,
   "metadata": {},
   "outputs": [],
   "source": [
    "#pip install and imports here"
   ]
  },
  {
   "cell_type": "code",
   "execution_count": null,
   "metadata": {},
   "outputs": [],
   "source": [
    "#create needed columns for transformation\n",
    "print(\"Creating DexEntry Key column...\")\n",
    "base_pokemon_df[\"dexEntry key\"] =  base_pokemon_df[\"id\"].astype(str)+base_pokemon_df[\"generation\"].str.replace(\"generation\",\"\")\n",
    "\n",
    "print(\"Creating ContextInfo key column...\")\n",
    "base_pokemon_df[\"contextInfo key\"] = base_pokemon_df[\"rank\"]+base_pokemon_df[\"generation\"].str.replace(\"generation\",\"\")\n",
    "#print(base_pokemon_df)"
   ]
  },
  {
   "cell_type": "markdown",
   "metadata": {},
   "source": [
    "We create dataframes that match our model's dimensions"
   ]
  },
  {
   "cell_type": "code",
   "execution_count": null,
   "metadata": {},
   "outputs": [],
   "source": [
    "print(\"Pokedex Entry dimension\\n\")\n",
    "\n",
    "pkd_entry_dim_cols = [\"dexEntry key\",\"id\",\"name\",\"evolves_from\",\"type1\",\"type2\",\"height\",\"weight\",\"abilities\"]\n",
    "pkd_entry_df = base_pokemon_df[pkd_entry_dim_cols]\n",
    "\n",
    "print(\"Renaming the columns to match our model...\")\n",
    "pkd_entry_cols_names = {\"id\": \"pokedex Id\", \"height\":\"height(cm)\", \"weight\" : \"weight(kg)\"}\n",
    "pkd_entry_df= pkd_entry_df.rename(columns=pkd_entry_cols_names, errors=\"raise\")\n",
    "\n",
    "print(\"Converting height and weight from decameter and dekagram to centimeters and kilogram...\")\n",
    "pkd_entry_df[\"height(cm)\"] *= 10\n",
    "pkd_entry_df[\"weight(kg)\"] *= 0.1\n",
    "\n",
    "print(\"\\n\")\n",
    "print(pkd_entry_df)"
   ]
  },
  {
   "cell_type": "code",
   "execution_count": null,
   "metadata": {},
   "outputs": [],
   "source": [
    "print(\"ContextInfo dimension\\n\")\n",
    "cinfo_dim_cols = [\"contextInfo key\",\"rank\",\"generation\"]\n",
    "cinfo_df = base_pokemon_df[cinfo_dim_cols]\n",
    "\n",
    "print(\"Dropping duplicates...\")\n",
    "cinfo_df.drop_duplicates(subset=[\"contextInfo key\"],inplace=True)\n",
    "\n",
    "print(\"Reseting indexes after removing duplicates...\")\n",
    "cinfo_df.reset_index(drop=True,inplace=True)\n",
    "print(cinfo_df)"
   ]
  },
  {
   "cell_type": "markdown",
   "metadata": {},
   "source": [
    "We create a dataframe for our fact table"
   ]
  },
  {
   "cell_type": "code",
   "execution_count": null,
   "metadata": {},
   "outputs": [],
   "source": [
    "print(\"Fact table\\n\")\n",
    "fact_table_cols = [\"dexEntry key\",\"contextInfo key\",\"hp\", \"atk\", \"def\", \"spatk\",\"spdef\",\"speed\",\"total\"]\n",
    "fact_table_df = base_pokemon_df[fact_table_cols]\n",
    "\n",
    "print(\"Renaming columns to match our model...\")\n",
    "fact_cols_names = {\"hp\": \"Health Points\", \"atk\":\"Attack\", \"def\" : \"Defense\", \"spatk\":\"Special Attack\",\"spdef\":\"Special Defense\", \"speed\": \"Speed\", \"total\":\"Total\"}\n",
    "fact_table_df= fact_table_df.rename(columns=fact_cols_names, errors=\"raise\")\n",
    "\n",
    "print(\"Checking for null values...\")\n",
    "print(fact_table_df.isnull().sum())\n",
    "\n",
    "print(\"\\n\")\n",
    "print(fact_table_df)"
   ]
  },
  {
   "cell_type": "code",
   "execution_count": null,
   "metadata": {},
   "outputs": [],
   "source": [
    "# If we want to add data from the datasets in data\\extended datasets we can do that here"
   ]
  },
  {
   "cell_type": "markdown",
   "metadata": {},
   "source": [
    "### 3. Loading"
   ]
  },
  {
   "cell_type": "markdown",
   "metadata": {},
   "source": [
    "Loading the data to our DBMS "
   ]
  },
  {
   "cell_type": "code",
   "execution_count": null,
   "metadata": {},
   "outputs": [],
   "source": []
  }
 ],
 "metadata": {
  "kernelspec": {
   "display_name": "Python 3",
   "language": "python",
   "name": "python3"
  },
  "language_info": {
   "codemirror_mode": {
    "name": "ipython",
    "version": 3
   },
   "file_extension": ".py",
   "mimetype": "text/x-python",
   "name": "python",
   "nbconvert_exporter": "python",
   "pygments_lexer": "ipython3",
   "version": "3.10.4"
  }
 },
 "nbformat": 4,
 "nbformat_minor": 2
}
