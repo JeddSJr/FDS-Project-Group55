{
 "cells": [
  {
   "cell_type": "markdown",
   "metadata": {},
   "source": [
    "## Data Staging process for Phase 2 of CSI4142 Project"
   ]
  },
  {
   "cell_type": "markdown",
   "metadata": {},
   "source": [
    "### 1. Extraction"
   ]
  },
  {
   "cell_type": "code",
   "execution_count": null,
   "metadata": {},
   "outputs": [],
   "source": [
    "# pip install and imports here\n",
    "import pandas as pd"
   ]
  },
  {
   "cell_type": "code",
   "execution_count": null,
   "metadata": {},
   "outputs": [],
   "source": [
    "# Read base dataset in a pandas data frame and print\n",
    "base_pokemon_df = pd.read_csv(\"data/base_df_pokemon.csv\")\n",
    "print(base_pokemon_df)"
   ]
  },
  {
   "cell_type": "code",
   "execution_count": null,
   "metadata": {},
   "outputs": [],
   "source": [
    "print(\"Now we verify the types pandas assigned to our columns\")\n",
    "print(base_pokemon_df.dtypes)\n",
    "print(\"dtype = object signifies a string\")"
   ]
  },
  {
   "cell_type": "markdown",
   "metadata": {},
   "source": [
    "### 2. Transformation"
   ]
  },
  {
   "cell_type": "code",
   "execution_count": null,
   "metadata": {},
   "outputs": [],
   "source": [
    "#pip install and imports here"
   ]
  },
  {
   "cell_type": "code",
   "execution_count": null,
   "metadata": {},
   "outputs": [],
   "source": [
    "#create needed columns for transformation\n",
    "print(\"Creating DexEntry Key column...\")\n",
    "base_pokemon_df[\"DexEntryKey\"] =  base_pokemon_df[\"id\"].astype(str)+base_pokemon_df[\"generation\"].str.replace(\"generation\",\"\")\n",
    "\n",
    "print(\"Creating ContextInfo key column...\")\n",
    "base_pokemon_df[\"ContextInfoKey\"] = base_pokemon_df[\"rank\"]+base_pokemon_df[\"generation\"].str.replace(\"generation\",\"\")\n",
    "#print(base_pokemon_df)"
   ]
  },
  {
   "cell_type": "markdown",
   "metadata": {},
   "source": [
    "We create dataframes that match our model's dimensions"
   ]
  },
  {
   "cell_type": "code",
   "execution_count": null,
   "metadata": {},
   "outputs": [],
   "source": [
    "print(\"Pokedex Entry dimension\\n\")\n",
    "\n",
    "pkd_entry_dim_cols = [\"DexEntryKey\",\"id\",\"name\",\"evolves_from\",\"type1\",\"type2\",\"height\",\"weight\",\"abilities\"]\n",
    "pkd_entry_df = base_pokemon_df[pkd_entry_dim_cols]\n",
    "\n",
    "print(\"Renaming the columns to match our model...\")\n",
    "pkd_entry_cols_names = {\"id\": \"pokedex Id\", \"height\":\"height_cm\", \"weight\" : \"weight_kg\"}\n",
    "pkd_entry_df= pkd_entry_df.rename(columns=pkd_entry_cols_names, errors=\"raise\")\n",
    "\n",
    "print(\"Converting height and weight from decameter and dekagram to centimeters and kilogram...\")\n",
    "pkd_entry_df[\"height_cm\"] *= 10\n",
    "pkd_entry_df[\"weight_kg\"] *= 0.1\n",
    "\n",
    "\n",
    "print(\"\\n\")\n",
    "print(pkd_entry_df)"
   ]
  },
  {
   "cell_type": "code",
   "execution_count": null,
   "metadata": {},
   "outputs": [],
   "source": [
    "print(\"isVariant column\\n\")\n",
    "\n",
    "df_variant = pd.read_csv('data/extended datasets/bridge_pokemon_pokemon_HAS_VARIANT.csv')\n",
    "unique_variant = df_variant['Non-Variant Pkm Name'].unique()\n",
    "unique_variant_lower = list(map(str.lower, unique_variant))\n",
    "print(unique_variant_lower)\n"
   ]
  },
  {
   "cell_type": "code",
   "execution_count": null,
   "metadata": {},
   "outputs": [],
   "source": [
    "#  check if the name exist in variant csv file\n",
    "pkd_entry_df['is_there_variant'] = pkd_entry_df['name'].str.contains('|'.join(unique_variant_lower))\n",
    "pkd_entry_df"
   ]
  },
  {
   "cell_type": "code",
   "execution_count": null,
   "metadata": {},
   "outputs": [],
   "source": [
    "print(\"ContextInfo dimension\\n\")\n",
    "cinfo_dim_cols = [\"ContextInfoKey\",\"rank\",\"generation\"]\n",
    "cinfo_df = base_pokemon_df[cinfo_dim_cols]\n",
    "\n",
    "print(\"Dropping duplicates...\")\n",
    "cinfo_df.drop_duplicates(subset=[\"ContextInfoKey\"],inplace=True)\n",
    "\n",
    "print(\"Reseting indexes after removing duplicates...\")\n",
    "cinfo_df.reset_index(drop=True,inplace=True)\n",
    "print(cinfo_df)"
   ]
  },
  {
   "cell_type": "markdown",
   "metadata": {},
   "source": [
    "We create a dataframe for our fact table"
   ]
  },
  {
   "cell_type": "code",
   "execution_count": null,
   "metadata": {},
   "outputs": [],
   "source": [
    "print(\"Fact table\\n\")\n",
    "fact_table_cols = [\"DexEntryKey\",\"ContextInfoKey\",\"hp\", \"atk\", \"def\", \"spatk\",\"spdef\",\"speed\",\"total\"]\n",
    "fact_table_df = base_pokemon_df[fact_table_cols]\n",
    "\n",
    "print(\"Renaming columns to match our model...\")\n",
    "fact_cols_names = {\"hp\": \"HP\", \"atk\":\"ATK\", \"def\" : \"DEF\", \"spatk\":\"SPATK\",\"spdef\":\"SPDEF\", \"speed\": \"SPEED\", \"total\":\"TOTAL\"}\n",
    "fact_table_df= fact_table_df.rename(columns=fact_cols_names, errors=\"raise\")\n",
    "\n",
    "print(\"Checking for null values...\")\n",
    "print(fact_table_df.isnull().sum())\n",
    "\n",
    "print(\"\\n\")\n",
    "print(fact_table_df)"
   ]
  },
  {
   "cell_type": "code",
   "execution_count": null,
   "metadata": {},
   "outputs": [],
   "source": [
    "# If we want to add data from the datasets in data\\extended datasets we can do that here"
   ]
  },
  {
   "cell_type": "markdown",
   "metadata": {},
   "source": [
    "### 3. Loading"
   ]
  },
  {
   "cell_type": "code",
   "execution_count": null,
   "metadata": {},
   "outputs": [],
   "source": [
    "#pip install and imports here\n",
    "%pip install psycopg2-binary\n",
    "%pip install SQLAlchemy\n",
    "\n",
    "import psycopg2\n",
    "import configparser\n",
    "import sqlalchemy "
   ]
  },
  {
   "cell_type": "markdown",
   "metadata": {},
   "source": [
    "Retrieving configuration and connecting to the database"
   ]
  },
  {
   "cell_type": "code",
   "execution_count": null,
   "metadata": {},
   "outputs": [],
   "source": [
    "print(\"Retrieving configuration...\")\n",
    "config = configparser.ConfigParser()\n",
    "config.read('settings.ini')\n",
    "db_config = config['DB CONFIGURATION']\n",
    "\n",
    "print(\"Connecting to the database...\")\n",
    "\n",
    "try:\n",
    "    conn = psycopg2.connect(\n",
    "        \"dbname=\"+ db_config['DB_NAME']+\n",
    "        \" host=\"+db_config['HOST']+\n",
    "        \" user=\"+ db_config['USER']+\n",
    "        \" password=\"+ db_config['PASSWORD']+\n",
    "        \" port=\"+db_config['PORT']\n",
    "    )\n",
    "    cursor = conn.cursor()\n",
    "    print(conn)\n",
    "    print(cursor)\n",
    "    print(\"Connected to the database !\")\n",
    "except psycopg2.OperationalError as e:\n",
    "    #print(\"Error connecting to the database!\\n{0}\").format(e)\n",
    "    print(\"Failed to connect to the database\")\n",
    "    import sys\n",
    "    err_type, err_obj, traceback = sys.exc_info()\n",
    "    print(\"\\npsycopg error:\",e)\n",
    "    print (\"\\npsycopg2 traceback:\", traceback, \"-- type:\", err_type)\n",
    "    print (\"\\nextensions.Diagnostics:\", e.diag)\n"
   ]
  },
  {
   "cell_type": "markdown",
   "metadata": {},
   "source": [
    "SQL Queries to load our data"
   ]
  },
  {
   "cell_type": "markdown",
   "metadata": {},
   "source": [
    "1. Verifying that our tables exist and creating them if they do not\n"
   ]
  },
  {
   "cell_type": "code",
   "execution_count": null,
   "metadata": {},
   "outputs": [],
   "source": [
    "print(\"Checking for tables...\")\n",
    "try:\n",
    "    print(\"Checking ContextInfo_Dimension\")\n",
    "    cursor.execute(\n",
    "        \"CREATE TABLE IF NOT EXISTS \"+\n",
    "        \"ContextInfo_Dimension (\"+\n",
    "        \"ContextInfoKey varchar(255), \"+\n",
    "        \"Rank varchar(255), \"+\n",
    "        \"Generation varchar(255), \"+\n",
    "        \"PRIMARY KEY (ContextInfoKey) \"+\n",
    "        \");\"\n",
    "    )\n",
    "    \n",
    "    print(\"Checking PokedexEntry_Dimension\")\n",
    "    cursor.execute(\n",
    "        \"CREATE TABLE IF NOT EXISTS \"+\n",
    "        \"PokedexEntry_Dimension (\"+\n",
    "        \"DexEntryKey varchar(255), \"+\n",
    "        \"PokedexId INT, \"+\n",
    "        \"Name varchar(255), \"+\n",
    "        \"EvolvesFrom varchar(255), \"+\n",
    "        \"Type1 varchar(255), \"+\n",
    "        \"Type2 varchar(255), \"+\n",
    "        \"Height_cm FLOAT, \"+\n",
    "        \"Weight_kg FLOAT, \"+\n",
    "        \"Abilities varchar(255), \"+\n",
    "        \"PRIMARY KEY (DexEntryKey) \"+\n",
    "        \");\"\n",
    "    )\n",
    "    \n",
    "    print(\"Checking Fact Table\")\n",
    "    cursor.execute(\n",
    "        \"CREATE TABLE IF NOT EXISTS \"+\n",
    "        \"Fact_Table (\"+\n",
    "        \"DexEntryKey varchar(255), \"+\n",
    "        \"ContextInfoKey varchar(255), \"+\n",
    "        \"HP INT, \"+\n",
    "        \"ATK INT, \"+\n",
    "        \"DEF INT, \"+\n",
    "        \"SPATK INT, \"+\n",
    "        \"SPDEF INT, \"+\n",
    "        \"SPEED INT, \"+\n",
    "        \"TOTAL INT, \"+\n",
    "        \"FOREIGN KEY (DexEntryKey) REFERENCES PokedexEntry_Dimension(DexEntryKey), \"+\n",
    "        \"FOREIGN KEY (ContextInfoKey) REFERENCES ContextInfo_Dimension(ContextInfoKey) \"+\n",
    "        \");\"\n",
    "    )\n",
    "    \n",
    "    cursor.execute(\"SELECT * FROM pg_catalog.pg_tables;\")\n",
    "    print(cursor.fetchall())\n",
    "except Exception as e:\n",
    "    print(\"\\nError:\",e)"
   ]
  },
  {
   "cell_type": "markdown",
   "metadata": {},
   "source": [
    "2. Pushing our datasets to the appropriate tables"
   ]
  },
  {
   "cell_type": "code",
   "execution_count": null,
   "metadata": {},
   "outputs": [],
   "source": [
    "%pip install psycopg2 \n",
    "try:\n",
    "    conn_string = \"postgresql://\"+db_config['USER']+\":\"+db_config['PASSWORD']+\"@\"+db_config['HOST']+\"/\"+db_config['DB_NAME']\n",
    "    conn_string = conn_string.replace(\"'\",\"\") \n",
    "    db = sqlalchemy.create_engine(conn_string, pool_pre_ping=True)\n",
    "    conn2 = db.connect()\n",
    "    print(conn2)\n",
    "    #cinfo_df.to_sql(name='ContextInfo_Dimension',con=conn,if_exists='append')\n",
    "except Exception as e:\n",
    "    print(\"\\nError:\",e)\n",
    "    "
   ]
  },
  {
   "cell_type": "code",
   "execution_count": null,
   "metadata": {},
   "outputs": [],
   "source": [
    "\n",
    "\n",
    "cinfo_df.to_sql('ContextInfo_Dimension',conn2,if_exists='append')\n",
    "\n",
    "pkd_entry_df.to_sql('PokedexEntry_Dimension',conn2,if_exists='append')\n",
    "fact_table_df.to_sql('Fact_Table',conn2,if_exists='append')"
   ]
  },
  {
   "cell_type": "code",
   "execution_count": null,
   "metadata": {},
   "outputs": [],
   "source": [
    "cursor.execute('SELECT * FROM \"ContextInfo_Dimension\";')\n",
    "print(cursor.fetchall())\n",
    "cursor.execute('SELECT * FROM \"PokedexEntry_Dimension\";')\n",
    "print(cursor.fetchall())\n",
    "cursor.execute('SELECT * FROM \"Fact_Table\";')\n",
    "print(cursor.fetchall())\n"
   ]
  },
  {
   "cell_type": "code",
   "execution_count": null,
   "metadata": {},
   "outputs": [],
   "source": [
    "cursor.execute('DROP TABLE IF EXISTS \"ContextInfo_Dimension\";')\n",
    "cursor.execute('DROP TABLE IF EXISTS \"PokedexEntry_Dimension\";')\n",
    "cursor.execute('DROP TABLE IF EXISTS \"Fact_Table\";')"
   ]
  },
  {
   "cell_type": "markdown",
   "metadata": {},
   "source": [
    "3. Making aggregates if needed"
   ]
  },
  {
   "cell_type": "markdown",
   "metadata": {},
   "source": [
    "Closing operations"
   ]
  },
  {
   "cell_type": "code",
   "execution_count": null,
   "metadata": {},
   "outputs": [],
   "source": [
    "conn.close()\n",
    "conn2.close()"
   ]
  }
 ],
 "metadata": {
  "kernelspec": {
   "display_name": "Python 3 (ipykernel)",
   "language": "python",
   "name": "python3"
  },
  "language_info": {
   "codemirror_mode": {
    "name": "ipython",
    "version": 3
   },
   "file_extension": ".py",
   "mimetype": "text/x-python",
   "name": "python",
   "nbconvert_exporter": "python",
   "pygments_lexer": "ipython3",
   "version": "3.10.4"
  }
 },
 "nbformat": 4,
 "nbformat_minor": 2
}
