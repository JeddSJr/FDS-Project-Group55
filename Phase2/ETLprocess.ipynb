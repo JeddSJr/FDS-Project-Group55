{
 "cells": [
  {
   "cell_type": "markdown",
   "metadata": {},
   "source": [
    "## Data Staging process for Phase 2 of CSI4142 Project"
   ]
  },
  {
   "cell_type": "markdown",
   "metadata": {},
   "source": [
    "### 1. Extraction"
   ]
  },
  {
   "cell_type": "code",
   "execution_count": null,
   "metadata": {},
   "outputs": [],
   "source": [
    "# pip install and imports here\n",
    "import pandas as pd"
   ]
  },
  {
   "cell_type": "code",
   "execution_count": 2,
   "metadata": {},
   "outputs": [
    {
     "name": "stdout",
     "output_type": "stream",
     "text": [
      "        id          name       rank     generation evolves_from     type1  \\\n",
      "0        1     bulbasaur   ordinary   generation-i      nothing     grass   \n",
      "1        2       ivysaur   ordinary   generation-i    bulbasaur     grass   \n",
      "2        3      venusaur   ordinary   generation-i      ivysaur     grass   \n",
      "3        4    charmander   ordinary   generation-i      nothing      fire   \n",
      "4        5    charmeleon   ordinary   generation-i   charmander      fire   \n",
      "...    ...           ...        ...            ...          ...       ...   \n",
      "1020  1021   raging-bolt   ordinary  generation-ix      nothing  electric   \n",
      "1021  1022  iron-boulder   ordinary  generation-ix      nothing      rock   \n",
      "1022  1023    iron-crown   ordinary  generation-ix      nothing     steel   \n",
      "1023  1024     terapagos  legendary  generation-ix      nothing    normal   \n",
      "1024  1025     pecharunt   mythical  generation-ix      nothing    poison   \n",
      "\n",
      "        type2   hp  atk  def  spatk  spdef  speed  total  height  weight  \\\n",
      "0      poison   45   49   49     65     65     45    318       7      69   \n",
      "1      poison   60   62   63     80     80     60    405      10     130   \n",
      "2      poison   80   82   83    100    100     80    525      20    1000   \n",
      "3         NaN   39   52   43     60     50     65    309       6      85   \n",
      "4         NaN   58   64   58     80     65     80    405      11     190   \n",
      "...       ...  ...  ...  ...    ...    ...    ...    ...     ...     ...   \n",
      "1020   dragon  125   73   91    137     89     75    590      52    4800   \n",
      "1021  psychic   90  120   80     68    108    124    590      15    1625   \n",
      "1022  psychic   90   72  100    122    108     98    590      16    1560   \n",
      "1023      NaN   90   65   85     65     85     60    450       2      65   \n",
      "1024    ghost   88   88  160     88     88     88    600       3       3   \n",
      "\n",
      "                  abilities                                               desc  \n",
      "0     overgrow chlorophyll   A strange seed was planted on its back at birt...  \n",
      "1     overgrow chlorophyll   When the bulb on its back grows large, it appe...  \n",
      "2     overgrow chlorophyll   The plant blooms when it is absorbing solar en...  \n",
      "3        blaze solar-power   Obviously prefers hot places. When it rains, s...  \n",
      "4        blaze solar-power   When it swings its burning tail, it elevates t...  \n",
      "...                     ...                                                ...  \n",
      "1020        protosynthesis                                       Not Available  \n",
      "1021           quark-drive                                       Not Available  \n",
      "1022           quark-drive                                       Not Available  \n",
      "1023            tera-shift                                       Not Available  \n",
      "1024      poison-puppeteer                                       Not Available  \n",
      "\n",
      "[1025 rows x 18 columns]\n"
     ]
    }
   ],
   "source": [
    "# Read base dataset in a pandas data frame and print\n",
    "base_pokemon_df = pd.read_csv(\"data/base_df_pokemon.csv\")\n",
    "print(base_pokemon_df)"
   ]
  },
  {
   "cell_type": "code",
   "execution_count": 5,
   "metadata": {},
   "outputs": [
    {
     "name": "stdout",
     "output_type": "stream",
     "text": [
      "Now we verify the types pandas assigned to our columns\n",
      "id               int64\n",
      "name            object\n",
      "rank            object\n",
      "generation      object\n",
      "evolves_from    object\n",
      "type1           object\n",
      "type2           object\n",
      "hp               int64\n",
      "atk              int64\n",
      "def              int64\n",
      "spatk            int64\n",
      "spdef            int64\n",
      "speed            int64\n",
      "total            int64\n",
      "height           int64\n",
      "weight           int64\n",
      "abilities       object\n",
      "desc            object\n",
      "dtype: object\n"
     ]
    }
   ],
   "source": [
    "print(\"Now we verify the types pandas assigned to our columns\")\n",
    "print(base_pokemon_df.dtypes)\n",
    "print(\"dtype = object signifies a string\")"
   ]
  },
  {
   "cell_type": "markdown",
   "metadata": {},
   "source": [
    "### 2. Transformation"
   ]
  },
  {
   "cell_type": "code",
   "execution_count": null,
   "metadata": {},
   "outputs": [],
   "source": [
    "#pip install and imports here"
   ]
  },
  {
   "cell_type": "code",
   "execution_count": null,
   "metadata": {},
   "outputs": [],
   "source": []
  },
  {
   "cell_type": "markdown",
   "metadata": {},
   "source": [
    "### 3. Loading"
   ]
  },
  {
   "cell_type": "code",
   "execution_count": null,
   "metadata": {},
   "outputs": [],
   "source": []
  }
 ],
 "metadata": {
  "kernelspec": {
   "display_name": "Python 3",
   "language": "python",
   "name": "python3"
  },
  "language_info": {
   "codemirror_mode": {
    "name": "ipython",
    "version": 3
   },
   "file_extension": ".py",
   "mimetype": "text/x-python",
   "name": "python",
   "nbconvert_exporter": "python",
   "pygments_lexer": "ipython3",
   "version": "3.10.4"
  }
 },
 "nbformat": 4,
 "nbformat_minor": 2
}
