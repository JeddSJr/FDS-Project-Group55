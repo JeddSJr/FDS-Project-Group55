{
 "cells": [
  {
   "cell_type": "markdown",
   "metadata": {},
   "source": [
    "## Data Staging process for Phase 2 of CSI4142 Project"
   ]
  },
  {
   "cell_type": "markdown",
   "metadata": {},
   "source": [
    "### 1. Extraction"
   ]
  },
  {
   "cell_type": "code",
   "execution_count": null,
   "metadata": {},
   "outputs": [],
   "source": [
    "# pip install and imports here\n",
    "import pandas as pd"
   ]
  },
  {
   "cell_type": "code",
   "execution_count": null,
   "metadata": {},
   "outputs": [],
   "source": [
    "# Read base dataset in a pandas data frame and print\n",
    "base_pokemon_df = pd.read_csv(\"data/base_df_pokemon.csv\")\n",
    "print(base_pokemon_df)"
   ]
  },
  {
   "cell_type": "code",
   "execution_count": null,
   "metadata": {},
   "outputs": [],
   "source": [
    "print(\"Now we verify the types pandas assigned to our columns\")\n",
    "print(base_pokemon_df.dtypes)\n",
    "print(\"dtype = object signifies a string\")"
   ]
  },
  {
   "cell_type": "markdown",
   "metadata": {},
   "source": [
    "### 2. Transformation"
   ]
  },
  {
   "cell_type": "code",
   "execution_count": null,
   "metadata": {},
   "outputs": [],
   "source": [
    "#pip install and imports here"
   ]
  },
  {
   "cell_type": "code",
   "execution_count": null,
   "metadata": {},
   "outputs": [],
   "source": [
    "#create needed columns for transformation\n",
    "print(\"Creating DexEntry Key column...\")\n",
    "base_pokemon_df[\"dexEntry key\"] =  base_pokemon_df[\"id\"].astype(str)+base_pokemon_df[\"generation\"].str.replace(\"generation\",\"\")\n",
    "\n",
    "print(\"Creating ContextInfo key column...\")\n",
    "base_pokemon_df[\"contextInfo key\"] = base_pokemon_df[\"rank\"]+base_pokemon_df[\"generation\"].str.replace(\"generation\",\"\")\n",
    "#print(base_pokemon_df)"
   ]
  },
  {
   "cell_type": "markdown",
   "metadata": {},
   "source": [
    "We create dataframes that match our model's dimensions"
   ]
  },
  {
   "cell_type": "code",
   "execution_count": null,
   "metadata": {},
   "outputs": [],
   "source": [
    "print(\"Pokedex Entry dimension\\n\")\n",
    "\n",
    "pkd_entry_dim_cols = [\"dexEntry key\",\"id\",\"name\",\"evolves_from\",\"type1\",\"type2\",\"height\",\"weight\",\"abilities\"]\n",
    "pkd_entry_df = base_pokemon_df[pkd_entry_dim_cols]\n",
    "\n",
    "print(\"Renaming the columns to match our model...\")\n",
    "pkd_entry_cols_names = {\"id\": \"pokedex Id\", \"height\":\"height(cm)\", \"weight\" : \"weight(kg)\"}\n",
    "pkd_entry_df= pkd_entry_df.rename(columns=pkd_entry_cols_names, errors=\"raise\")\n",
    "\n",
    "print(\"Converting height and weight from decameter and dekagram to centimeters and kilogram...\")\n",
    "pkd_entry_df[\"height(cm)\"] *= 10\n",
    "pkd_entry_df[\"weight(kg)\"] *= 0.1\n",
    "\n",
    "print(\"\\n\")\n",
    "print(pkd_entry_df)"
   ]
  },
  {
   "cell_type": "code",
   "execution_count": null,
   "metadata": {},
   "outputs": [],
   "source": [
    "print(\"ContextInfo dimension\\n\")\n",
    "cinfo_dim_cols = [\"contextInfo key\",\"rank\",\"generation\"]\n",
    "cinfo_df = base_pokemon_df[cinfo_dim_cols]\n",
    "\n",
    "print(\"Dropping duplicates...\")\n",
    "cinfo_df.drop_duplicates(subset=[\"contextInfo key\"],inplace=True)\n",
    "\n",
    "print(\"Reseting indexes after removing duplicates...\")\n",
    "cinfo_df.reset_index(drop=True,inplace=True)\n",
    "print(cinfo_df)"
   ]
  },
  {
   "cell_type": "markdown",
   "metadata": {},
   "source": [
    "We create a dataframe for our fact table"
   ]
  },
  {
   "cell_type": "code",
   "execution_count": null,
   "metadata": {},
   "outputs": [],
   "source": [
    "print(\"Fact table\\n\")\n",
    "fact_table_cols = [\"dexEntry key\",\"contextInfo key\",\"hp\", \"atk\", \"def\", \"spatk\",\"spdef\",\"speed\",\"total\"]\n",
    "fact_table_df = base_pokemon_df[fact_table_cols]\n",
    "\n",
    "print(\"Renaming columns to match our model...\")\n",
    "fact_cols_names = {\"hp\": \"Health Points\", \"atk\":\"Attack\", \"def\" : \"Defense\", \"spatk\":\"Special Attack\",\"spdef\":\"Special Defense\", \"speed\": \"Speed\", \"total\":\"Total\"}\n",
    "fact_table_df= fact_table_df.rename(columns=fact_cols_names, errors=\"raise\")\n",
    "\n",
    "print(\"Checking for null values...\")\n",
    "print(fact_table_df.isnull().sum())\n",
    "\n",
    "print(\"\\n\")\n",
    "print(fact_table_df)"
   ]
  },
  {
   "cell_type": "code",
   "execution_count": null,
   "metadata": {},
   "outputs": [],
   "source": [
    "# If we want to add data from the datasets in data\\extended datasets we can do that here"
   ]
  },
  {
   "cell_type": "markdown",
   "metadata": {},
   "source": [
    "### 3. Loading"
   ]
  },
  {
   "cell_type": "markdown",
   "metadata": {},
   "source": [
    "Loading the data to our DBMS "
   ]
  },
  {
   "cell_type": "code",
   "execution_count": 7,
   "metadata": {},
   "outputs": [
    {
     "name": "stdout",
     "output_type": "stream",
     "text": [
      "Requirement already satisfied: psycopg2-binary in c:\\python310\\lib\\site-packages (2.9.9)\n",
      "Note: you may need to restart the kernel to use updated packages.\n"
     ]
    },
    {
     "name": "stderr",
     "output_type": "stream",
     "text": [
      "WARNING: Ignoring invalid distribution -ip (c:\\python310\\lib\\site-packages)\n",
      "WARNING: Ignoring invalid distribution -ip (c:\\python310\\lib\\site-packages)\n"
     ]
    }
   ],
   "source": [
    "#pip install and imports here\n",
    "%pip install psycopg2-binary\n",
    "\n",
    "import psycopg2\n",
    "import psycopg\n",
    "import configparser\n",
    "import socket\n",
    "#socket.getaddrinfo('localhost', 8080)"
   ]
  },
  {
   "cell_type": "code",
   "execution_count": 15,
   "metadata": {},
   "outputs": [
    {
     "name": "stdout",
     "output_type": "stream",
     "text": [
      "Retrieving configuration...\n",
      "Connecting to the database...\n"
     ]
    },
    {
     "ename": "OperationalError",
     "evalue": "connection to server at \"localhost\" (::1), port 5432 failed: FATAL:  password authentication failed for user \"postgres\"\n",
     "output_type": "error",
     "traceback": [
      "\u001b[1;31m---------------------------------------------------------------------------\u001b[0m",
      "\u001b[1;31mOperationalError\u001b[0m                          Traceback (most recent call last)",
      "Cell \u001b[1;32mIn[15], line 18\u001b[0m\n\u001b[0;32m      8\u001b[0m \u001b[38;5;28;01mtry\u001b[39;00m:\n\u001b[0;32m      9\u001b[0m \u001b[38;5;250m    \u001b[39m\u001b[38;5;124;03m\"\"\"\u001b[39;00m\n\u001b[0;32m     10\u001b[0m \u001b[38;5;124;03m    conn = psycopg.connect(\u001b[39;00m\n\u001b[0;32m     11\u001b[0m \u001b[38;5;124;03m        dbname = db_config['DB_NAME'],\u001b[39;00m\n\u001b[1;32m   (...)\u001b[0m\n\u001b[0;32m     16\u001b[0m \u001b[38;5;124;03m    )\u001b[39;00m\n\u001b[0;32m     17\u001b[0m \u001b[38;5;124;03m    \"\"\"\u001b[39;00m\n\u001b[1;32m---> 18\u001b[0m     conn \u001b[38;5;241m=\u001b[39m \u001b[43mpsycopg2\u001b[49m\u001b[38;5;241;43m.\u001b[39;49m\u001b[43mconnect\u001b[49m\u001b[43m(\u001b[49m\n\u001b[0;32m     19\u001b[0m \u001b[43m        \u001b[49m\u001b[38;5;124;43m\"\u001b[39;49m\u001b[38;5;124;43mdbname=\u001b[39;49m\u001b[38;5;124;43m\"\u001b[39;49m\u001b[38;5;241;43m+\u001b[39;49m\u001b[43m \u001b[49m\u001b[43mdb_config\u001b[49m\u001b[43m[\u001b[49m\u001b[38;5;124;43m'\u001b[39;49m\u001b[38;5;124;43mDB_NAME\u001b[39;49m\u001b[38;5;124;43m'\u001b[39;49m\u001b[43m]\u001b[49m\u001b[38;5;241;43m+\u001b[39;49m\n\u001b[0;32m     20\u001b[0m \u001b[43m        \u001b[49m\u001b[38;5;124;43m\"\u001b[39;49m\u001b[38;5;124;43m host=\u001b[39;49m\u001b[38;5;124;43m\"\u001b[39;49m\u001b[38;5;241;43m+\u001b[39;49m\u001b[43mdb_config\u001b[49m\u001b[43m[\u001b[49m\u001b[38;5;124;43m'\u001b[39;49m\u001b[38;5;124;43mHOST\u001b[39;49m\u001b[38;5;124;43m'\u001b[39;49m\u001b[43m]\u001b[49m\u001b[38;5;241;43m+\u001b[39;49m\n\u001b[0;32m     21\u001b[0m \u001b[43m        \u001b[49m\u001b[38;5;124;43m\"\u001b[39;49m\u001b[38;5;124;43m user=\u001b[39;49m\u001b[38;5;124;43m\"\u001b[39;49m\u001b[38;5;241;43m+\u001b[39;49m\u001b[43m \u001b[49m\u001b[43mdb_config\u001b[49m\u001b[43m[\u001b[49m\u001b[38;5;124;43m'\u001b[39;49m\u001b[38;5;124;43mUSER\u001b[39;49m\u001b[38;5;124;43m'\u001b[39;49m\u001b[43m]\u001b[49m\u001b[38;5;241;43m+\u001b[39;49m\n\u001b[0;32m     22\u001b[0m \u001b[43m        \u001b[49m\u001b[38;5;124;43m\"\u001b[39;49m\u001b[38;5;124;43m password=\u001b[39;49m\u001b[38;5;124;43m\"\u001b[39;49m\u001b[38;5;241;43m+\u001b[39;49m\u001b[43m \u001b[49m\u001b[43mdb_config\u001b[49m\u001b[43m[\u001b[49m\u001b[38;5;124;43m'\u001b[39;49m\u001b[38;5;124;43mPASSWORD\u001b[39;49m\u001b[38;5;124;43m'\u001b[39;49m\u001b[43m]\u001b[49m\u001b[38;5;241;43m+\u001b[39;49m\n\u001b[0;32m     23\u001b[0m \u001b[43m        \u001b[49m\u001b[38;5;124;43m\"\u001b[39;49m\u001b[38;5;124;43m port=\u001b[39;49m\u001b[38;5;124;43m\"\u001b[39;49m\u001b[38;5;241;43m+\u001b[39;49m\u001b[43mdb_config\u001b[49m\u001b[43m[\u001b[49m\u001b[38;5;124;43m'\u001b[39;49m\u001b[38;5;124;43mPORT\u001b[39;49m\u001b[38;5;124;43m'\u001b[39;49m\u001b[43m]\u001b[49m\n\u001b[0;32m     24\u001b[0m \u001b[43m    \u001b[49m\u001b[43m)\u001b[49m\n\u001b[0;32m     25\u001b[0m     cursor \u001b[38;5;241m=\u001b[39m conn\u001b[38;5;241m.\u001b[39mcursor()\n\u001b[0;32m     26\u001b[0m     \u001b[38;5;28mprint\u001b[39m(conn)\n",
      "File \u001b[1;32mc:\\Python310\\lib\\site-packages\\psycopg2\\__init__.py:122\u001b[0m, in \u001b[0;36mconnect\u001b[1;34m(dsn, connection_factory, cursor_factory, **kwargs)\u001b[0m\n\u001b[0;32m    119\u001b[0m     kwasync[\u001b[38;5;124m'\u001b[39m\u001b[38;5;124masync_\u001b[39m\u001b[38;5;124m'\u001b[39m] \u001b[38;5;241m=\u001b[39m kwargs\u001b[38;5;241m.\u001b[39mpop(\u001b[38;5;124m'\u001b[39m\u001b[38;5;124masync_\u001b[39m\u001b[38;5;124m'\u001b[39m)\n\u001b[0;32m    121\u001b[0m dsn \u001b[38;5;241m=\u001b[39m _ext\u001b[38;5;241m.\u001b[39mmake_dsn(dsn, \u001b[38;5;241m*\u001b[39m\u001b[38;5;241m*\u001b[39mkwargs)\n\u001b[1;32m--> 122\u001b[0m conn \u001b[38;5;241m=\u001b[39m _connect(dsn, connection_factory\u001b[38;5;241m=\u001b[39mconnection_factory, \u001b[38;5;241m*\u001b[39m\u001b[38;5;241m*\u001b[39mkwasync)\n\u001b[0;32m    123\u001b[0m \u001b[38;5;28;01mif\u001b[39;00m cursor_factory \u001b[38;5;129;01mis\u001b[39;00m \u001b[38;5;129;01mnot\u001b[39;00m \u001b[38;5;28;01mNone\u001b[39;00m:\n\u001b[0;32m    124\u001b[0m     conn\u001b[38;5;241m.\u001b[39mcursor_factory \u001b[38;5;241m=\u001b[39m cursor_factory\n",
      "\u001b[1;31mOperationalError\u001b[0m: connection to server at \"localhost\" (::1), port 5432 failed: FATAL:  password authentication failed for user \"postgres\"\n"
     ]
    }
   ],
   "source": [
    "print(\"Retrieving configuration...\")\n",
    "config = configparser.ConfigParser()\n",
    "config.read('settings.ini')\n",
    "db_config = config['DB CONFIGURATION']\n",
    "\n",
    "print(\"Connecting to the database...\")\n",
    "\n",
    "try:\n",
    "    \"\"\"\n",
    "    conn = psycopg.connect(\n",
    "        dbname = db_config['DB_NAME'],\n",
    "        host = db_config['HOST'],\n",
    "        user = db_config['USER'],\n",
    "        password = db_config['PASSWORD'],\n",
    "        port = db_config['PORT']\n",
    "    )\n",
    "    \"\"\"\n",
    "    conn = psycopg2.connect(\n",
    "        \"dbname=\"+ db_config['DB_NAME']+\n",
    "        \" host=\"+db_config['HOST']+\n",
    "        \" user=\"+ db_config['USER']+\n",
    "        \" password=\"+ db_config['PASSWORD']+\n",
    "        \" port=\"+db_config['PORT']\n",
    "    )\n",
    "    cursor = conn.cursor()\n",
    "    print(conn)\n",
    "    print(cursor)\n",
    "    print(\"Connected to the database !\")\n",
    "except psycopg.OperationalError as e:\n",
    "    #print(\"Error connecting to the database!\\n{0}\").format(e)\n",
    "    print(\"Failed to connect to the database\")\n",
    "    import sys\n",
    "    err_type, err_obj, traceback = sys.exc_info()\n",
    "    print(\"\\npsycopg error:\",e)\n",
    "    print (\"\\npsycopg2 traceback:\", traceback, \"-- type:\", err_type)\n",
    "    print (\"\\nextensions.Diagnostics:\", e.diag)\n"
   ]
  }
 ],
 "metadata": {
  "kernelspec": {
   "display_name": "Python 3",
   "language": "python",
   "name": "python3"
  },
  "language_info": {
   "codemirror_mode": {
    "name": "ipython",
    "version": 3
   },
   "file_extension": ".py",
   "mimetype": "text/x-python",
   "name": "python",
   "nbconvert_exporter": "python",
   "pygments_lexer": "ipython3",
   "version": "3.10.4"
  }
 },
 "nbformat": 4,
 "nbformat_minor": 2
}
